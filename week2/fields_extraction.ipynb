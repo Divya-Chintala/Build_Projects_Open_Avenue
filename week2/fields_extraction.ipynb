{
 "cells": [
  {
   "cell_type": "markdown",
   "id": "7133a18a",
   "metadata": {},
   "source": [
    "#### Importing Required Libraries"
   ]
  },
  {
   "cell_type": "code",
   "execution_count": 4,
   "id": "07823428",
   "metadata": {},
   "outputs": [],
   "source": [
    "import pandas as pd\n",
    "import warnings\n",
    "warnings.filterwarnings(\"ignore\")"
   ]
  },
  {
   "cell_type": "code",
   "execution_count": 177,
   "id": "8708280d",
   "metadata": {},
   "outputs": [],
   "source": [
    "data=pd.read_csv(r\"C:\\Users\\divya\\Documents\\GitHub\\Build_Projects_Open_Avenue\\week2\\open_ave_data.csv\")"
   ]
  },
  {
   "cell_type": "code",
   "execution_count": 178,
   "id": "a5ca22b2",
   "metadata": {},
   "outputs": [
    {
     "data": {
      "text/html": [
       "<div>\n",
       "<style scoped>\n",
       "    .dataframe tbody tr th:only-of-type {\n",
       "        vertical-align: middle;\n",
       "    }\n",
       "\n",
       "    .dataframe tbody tr th {\n",
       "        vertical-align: top;\n",
       "    }\n",
       "\n",
       "    .dataframe thead th {\n",
       "        text-align: right;\n",
       "    }\n",
       "</style>\n",
       "<table border=\"1\" class=\"dataframe\">\n",
       "  <thead>\n",
       "    <tr style=\"text-align: right;\">\n",
       "      <th></th>\n",
       "      <th>Unnamed: 0</th>\n",
       "      <th>ReportText</th>\n",
       "      <th>findings</th>\n",
       "      <th>clinicaldata</th>\n",
       "      <th>ExamName</th>\n",
       "      <th>impression</th>\n",
       "    </tr>\n",
       "  </thead>\n",
       "  <tbody>\n",
       "    <tr>\n",
       "      <th>0</th>\n",
       "      <td>0</td>\n",
       "      <td>EXAM: CHEST RADIOGRAPHY EXAM DATE: 06/01/2019 ...</td>\n",
       "      <td>FINDINGS: Lungs/Pleura: No focal opacities evi...</td>\n",
       "      <td>CLINICAL HISTORY: Cough. \\n\\n</td>\n",
       "      <td>EXAM: CHEST RADIOGRAPHY EXAM DATE: 06/01/2019 ...</td>\n",
       "      <td>IMPRESSION: Normal 2-view chest radiography.</td>\n",
       "    </tr>\n",
       "    <tr>\n",
       "      <th>1</th>\n",
       "      <td>1</td>\n",
       "      <td>EXAM: CHEST RADIOGRAPHY EXAM DATE: 05/23/2020 ...</td>\n",
       "      <td>FINDINGS: Lungs/Pleura: No focal opacities evi...</td>\n",
       "      <td>CLINICAL HISTORY: CHEST PAIN. \\n\\n</td>\n",
       "      <td>EXAM: CHEST RADIOGRAPHY EXAM DATE: 05/23/2020 ...</td>\n",
       "      <td>IMPRESSION: No acute cardiopulmonary abnormali...</td>\n",
       "    </tr>\n",
       "    <tr>\n",
       "      <th>2</th>\n",
       "      <td>2</td>\n",
       "      <td>EXAM: CHEST RADIOGRAPHY EXAM DATE: 12/13/2019 ...</td>\n",
       "      <td>FINDINGS: Lungs/Pleura: No focal opacities evi...</td>\n",
       "      <td>CLINICAL HISTORY: CHEST PAIN. \\n\\n</td>\n",
       "      <td>EXAM: CHEST RADIOGRAPHY EXAM DATE: 12/13/2019 ...</td>\n",
       "      <td>IMPRESSION: No acute cardiopulmonary process.</td>\n",
       "    </tr>\n",
       "    <tr>\n",
       "      <th>3</th>\n",
       "      <td>3</td>\n",
       "      <td>Exam: - CHEST-PORTABLE History: Chest pain Com...</td>\n",
       "      <td>Findings: Heart size appears normal. Lungs cle...</td>\n",
       "      <td>History: Chest pain \\n\\n</td>\n",
       "      <td>Exam: - CHEST-PORTABLE\\n\\nComparison: None</td>\n",
       "      <td>Impression: Lungs clear</td>\n",
       "    </tr>\n",
       "    <tr>\n",
       "      <th>4</th>\n",
       "      <td>4</td>\n",
       "      <td>EXAM: CHEST RADIOGRAPHY EXAM DATE: 06/17/2021 ...</td>\n",
       "      <td>FINDINGS: Lungs/Pleura: No focal opacities evi...</td>\n",
       "      <td>CLINICAL HISTORY: CHEST PAIN, SHORTNESS OF BRE...</td>\n",
       "      <td>EXAM: CHEST RADIOGRAPHY EXAM DATE: 06/17/2021 ...</td>\n",
       "      <td>IMPRESSION: Normal single view chest.</td>\n",
       "    </tr>\n",
       "  </tbody>\n",
       "</table>\n",
       "</div>"
      ],
      "text/plain": [
       "   Unnamed: 0                                         ReportText  \\\n",
       "0           0  EXAM: CHEST RADIOGRAPHY EXAM DATE: 06/01/2019 ...   \n",
       "1           1  EXAM: CHEST RADIOGRAPHY EXAM DATE: 05/23/2020 ...   \n",
       "2           2  EXAM: CHEST RADIOGRAPHY EXAM DATE: 12/13/2019 ...   \n",
       "3           3  Exam: - CHEST-PORTABLE History: Chest pain Com...   \n",
       "4           4  EXAM: CHEST RADIOGRAPHY EXAM DATE: 06/17/2021 ...   \n",
       "\n",
       "                                            findings  \\\n",
       "0  FINDINGS: Lungs/Pleura: No focal opacities evi...   \n",
       "1  FINDINGS: Lungs/Pleura: No focal opacities evi...   \n",
       "2  FINDINGS: Lungs/Pleura: No focal opacities evi...   \n",
       "3  Findings: Heart size appears normal. Lungs cle...   \n",
       "4  FINDINGS: Lungs/Pleura: No focal opacities evi...   \n",
       "\n",
       "                                        clinicaldata  \\\n",
       "0                      CLINICAL HISTORY: Cough. \\n\\n   \n",
       "1                 CLINICAL HISTORY: CHEST PAIN. \\n\\n   \n",
       "2                 CLINICAL HISTORY: CHEST PAIN. \\n\\n   \n",
       "3                           History: Chest pain \\n\\n   \n",
       "4  CLINICAL HISTORY: CHEST PAIN, SHORTNESS OF BRE...   \n",
       "\n",
       "                                            ExamName  \\\n",
       "0  EXAM: CHEST RADIOGRAPHY EXAM DATE: 06/01/2019 ...   \n",
       "1  EXAM: CHEST RADIOGRAPHY EXAM DATE: 05/23/2020 ...   \n",
       "2  EXAM: CHEST RADIOGRAPHY EXAM DATE: 12/13/2019 ...   \n",
       "3         Exam: - CHEST-PORTABLE\\n\\nComparison: None   \n",
       "4  EXAM: CHEST RADIOGRAPHY EXAM DATE: 06/17/2021 ...   \n",
       "\n",
       "                                          impression  \n",
       "0      IMPRESSION: Normal 2-view chest radiography.   \n",
       "1  IMPRESSION: No acute cardiopulmonary abnormali...  \n",
       "2     IMPRESSION: No acute cardiopulmonary process.   \n",
       "3                            Impression: Lungs clear  \n",
       "4             IMPRESSION: Normal single view chest.   "
      ]
     },
     "execution_count": 178,
     "metadata": {},
     "output_type": "execute_result"
    }
   ],
   "source": [
    "data.head()"
   ]
  },
  {
   "cell_type": "code",
   "execution_count": 148,
   "id": "c7b3c30b",
   "metadata": {},
   "outputs": [],
   "source": [
    "data.drop(labels='Unnamed: 0',axis=1,inplace=True)"
   ]
  },
  {
   "cell_type": "code",
   "execution_count": 149,
   "id": "d2b6195e",
   "metadata": {},
   "outputs": [
    {
     "data": {
      "text/html": [
       "<div>\n",
       "<style scoped>\n",
       "    .dataframe tbody tr th:only-of-type {\n",
       "        vertical-align: middle;\n",
       "    }\n",
       "\n",
       "    .dataframe tbody tr th {\n",
       "        vertical-align: top;\n",
       "    }\n",
       "\n",
       "    .dataframe thead th {\n",
       "        text-align: right;\n",
       "    }\n",
       "</style>\n",
       "<table border=\"1\" class=\"dataframe\">\n",
       "  <thead>\n",
       "    <tr style=\"text-align: right;\">\n",
       "      <th></th>\n",
       "      <th>ReportText</th>\n",
       "    </tr>\n",
       "  </thead>\n",
       "  <tbody>\n",
       "    <tr>\n",
       "      <th>0</th>\n",
       "      <td>EXAM: CHEST RADIOGRAPHY EXAM DATE: 06/01/2019 ...</td>\n",
       "    </tr>\n",
       "    <tr>\n",
       "      <th>1</th>\n",
       "      <td>EXAM: CHEST RADIOGRAPHY EXAM DATE: 05/23/2020 ...</td>\n",
       "    </tr>\n",
       "    <tr>\n",
       "      <th>2</th>\n",
       "      <td>EXAM: CHEST RADIOGRAPHY EXAM DATE: 12/13/2019 ...</td>\n",
       "    </tr>\n",
       "    <tr>\n",
       "      <th>3</th>\n",
       "      <td>Exam: - CHEST-PORTABLE History: Chest pain Com...</td>\n",
       "    </tr>\n",
       "    <tr>\n",
       "      <th>4</th>\n",
       "      <td>EXAM: CHEST RADIOGRAPHY EXAM DATE: 06/17/2021 ...</td>\n",
       "    </tr>\n",
       "  </tbody>\n",
       "</table>\n",
       "</div>"
      ],
      "text/plain": [
       "                                          ReportText\n",
       "0  EXAM: CHEST RADIOGRAPHY EXAM DATE: 06/01/2019 ...\n",
       "1  EXAM: CHEST RADIOGRAPHY EXAM DATE: 05/23/2020 ...\n",
       "2  EXAM: CHEST RADIOGRAPHY EXAM DATE: 12/13/2019 ...\n",
       "3  Exam: - CHEST-PORTABLE History: Chest pain Com...\n",
       "4  EXAM: CHEST RADIOGRAPHY EXAM DATE: 06/17/2021 ..."
      ]
     },
     "execution_count": 149,
     "metadata": {},
     "output_type": "execute_result"
    }
   ],
   "source": [
    "df=data[[\"ReportText\"]]\n",
    "df.head()"
   ]
  },
  {
   "cell_type": "code",
   "execution_count": 150,
   "id": "ce342a2f",
   "metadata": {},
   "outputs": [],
   "source": [
    "l=df.to_numpy().tolist()"
   ]
  },
  {
   "cell_type": "markdown",
   "id": "8f168148",
   "metadata": {},
   "source": [
    "#### Setting up LLM"
   ]
  },
  {
   "cell_type": "markdown",
   "id": "37f58d2f",
   "metadata": {},
   "source": [
    "##### loading environ variable / API Keys to use model"
   ]
  },
  {
   "cell_type": "code",
   "execution_count": 179,
   "id": "80c7f1a0",
   "metadata": {},
   "outputs": [
    {
     "data": {
      "text/plain": [
       "True"
      ]
     },
     "execution_count": 179,
     "metadata": {},
     "output_type": "execute_result"
    }
   ],
   "source": [
    "from dotenv import load_dotenv\n",
    "load_dotenv()\n",
    "\n"
   ]
  },
  {
   "cell_type": "code",
   "execution_count": 156,
   "id": "659676db",
   "metadata": {},
   "outputs": [],
   "source": [
    "from langchain_groq import ChatGroq\n",
    "\n",
    "llm=ChatGroq(model=\"llama-3.1-8b-instant\")"
   ]
  },
  {
   "cell_type": "markdown",
   "id": "be5a071d",
   "metadata": {},
   "source": [
    "#### Prompt Setup"
   ]
  },
  {
   "cell_type": "code",
   "execution_count": 157,
   "id": "54e6c26b",
   "metadata": {},
   "outputs": [],
   "source": [
    "from langchain_core.prompts import ChatPromptTemplate"
   ]
  },
  {
   "cell_type": "markdown",
   "id": "97fa7d7a",
   "metadata": {},
   "source": [
    "#### Pydantic Class setup  and output parser\n",
    "\n",
    "- For Data validation\n",
    "- To ensure the output is in the required JSON format"
   ]
  },
  {
   "cell_type": "code",
   "execution_count": 158,
   "id": "3a757c73",
   "metadata": {},
   "outputs": [],
   "source": [
    "from pydantic import BaseModel,Field\n",
    "from langchain_core.output_parsers import PydanticOutputParser\n"
   ]
  },
  {
   "cell_type": "code",
   "execution_count": 159,
   "id": "52fe4869",
   "metadata": {},
   "outputs": [
    {
     "data": {
      "text/plain": [
       "Index(['ReportText', 'findings', 'clinicaldata', 'ExamName', 'impression'], dtype='object')"
      ]
     },
     "execution_count": 159,
     "metadata": {},
     "output_type": "execute_result"
    }
   ],
   "source": [
    "data.columns"
   ]
  },
  {
   "cell_type": "code",
   "execution_count": 160,
   "id": "8dbd0326",
   "metadata": {},
   "outputs": [],
   "source": [
    "class FieldsExtraction(BaseModel):\n",
    "    findings:str=Field(description=\"Radiologist's technical observations\")\n",
    "    clinicaldata:str=Field(description=\"Reason for examination (e.g., symptoms like chest pain, shortness of breath)\")\n",
    "    ExamName:str=Field(description=\"Exam type and date\")\n",
    "    impression:str=Field(description=\"Final diagnosis or summary\")"
   ]
  },
  {
   "cell_type": "code",
   "execution_count": 161,
   "id": "8ba7adf7",
   "metadata": {},
   "outputs": [],
   "source": [
    "output_parser=PydanticOutputParser(pydantic_object=FieldsExtraction)\n",
    "format_instructions = output_parser.get_format_instructions()\n",
    "output_parser.get_format_instructions()\n",
    "result=[]"
   ]
  },
  {
   "cell_type": "code",
   "execution_count": 162,
   "id": "d8d7455f",
   "metadata": {},
   "outputs": [],
   "source": [
    "prompt = ChatPromptTemplate.from_messages([\n",
    "        (\"system\", \"\"\"You are a helpful medical data extraction assistant. \n",
    "\n",
    "            From the given \"Report Text\", extract the following fields and return ONLY a JSON object, and nothing else. \n",
    "            Use the format described in {format_instructions}. Do not add explanations, Python code, or markdown formatting. \n",
    "            Return exactly this structure:\n",
    "         \n",
    "            Only return a JSON object with the following fields:\n",
    "\n",
    "            ### Fields to be extracted:\n",
    "            - findings\n",
    "            - clinicaldata\n",
    "            - ExamName\n",
    "            - impression\n",
    "\n",
    "            ### Example:\n",
    "\n",
    "            Input:\n",
    "            EXAM: CHEST RADIOGRAPHY EXAM DATE: 06/01/2019 08:30 PM. CLINICAL HISTORY: Cough. COMPARISON: None. TECHNIQUE: 2 views. FINDINGS: Lungs/Pleura: No focal opacities evident. No pleural effusion. No pneumothorax. Normal volumes. Mediastinum: Heart and mediastinal contours are unremarkable. Other: None. IMPRESSION: Normal 2-view chest radiography Dictated by: [[PERSONALNAME]] on 06/01/2019 08:42 PM. Electronically signed by: [[PERSONALNAME]] on 06/01/2019 08:43 PM.\n",
    "\n",
    "            Extracted:\n",
    "            findings = FINDINGS: Lungs/Pleura: No focal opacities evident. No pleural effusion. No pneumothorax. Normal volumes. Mediastinum: Heart and mediastinal contours are unremarkable. Other: None.  \n",
    "            clinicaldata = CLINICAL HISTORY: Cough.  \n",
    "            ExamName = EXAM: CHEST RADIOGRAPHY EXAM DATE: 06/01/2019 08:30 PM. TECHNIQUE: 2 views. COMPARISON: None.  \n",
    "            impression = IMPRESSION: Normal 2-view chest radiography    Dictated by: [[PERSONALNAME]] on 06/01/2019 08:42 PM. Electronically signed by: [[PERSONALNAME]] on 06/01/2019 08:43 PM.\n",
    "         \n",
    "            ### NOTE: Return all fields as flat strings — do not nest them or break into subfields like 'examdate' or 'examname'. Return 'ExamName' as a single string, just as found in the report. \"\"\"),\n",
    "                \n",
    "                \n",
    "            (\"user\", \"{input}\") ])"
   ]
  },
  {
   "cell_type": "code",
   "execution_count": 163,
   "id": "28d07790",
   "metadata": {},
   "outputs": [],
   "source": [
    "chain = prompt | llm | output_parser"
   ]
  },
  {
   "cell_type": "code",
   "execution_count": null,
   "id": "c9db571c",
   "metadata": {},
   "outputs": [],
   "source": [
    "import asyncio\n",
    "from langchain_core.exceptions import OutputParserException\n",
    "from tqdm import tqdm\n",
    "import math\n",
    "import time\n",
    "\n",
    "# Number of requests per minute (to stay below the limit)\n",
    "\n",
    "BATCH_SIZE = 25\n",
    "DELAY_BETWEEN_BATCHES = 60  # seconds\n",
    "\n",
    "async def process_async(index, text):\n",
    "    try:\n",
    "        response = await chain.ainvoke({\n",
    "            \"input\": text,\n",
    "            \"format_instructions\": output_parser.get_format_instructions()\n",
    "        })\n",
    "        return index, response\n",
    "    except OutputParserException as e:\n",
    "        print(f\"[OutputParseError] Index {index}:\\n\", e.llm_output)\n",
    "        return index, None\n",
    "    except Exception as e:\n",
    "        print(f\"[Error] Index {index}: {e}\")\n",
    "        return index, None\n",
    "\n",
    "async def run_all(text_list, start_idx=0):\n",
    "    tasks = [process_async(start_idx + i, text) for i, text in enumerate(text_list)]\n",
    "    return await asyncio.gather(*tasks)\n",
    "\n",
    "async def run_batched(text_list):\n",
    "    total = len(text_list)\n",
    "    results = [None] * total\n",
    "    failed_indices = []\n",
    "\n",
    "    num_batches = math.ceil(total / BATCH_SIZE)\n",
    "\n",
    "    for batch_idx in tqdm(range(num_batches), desc=\"Processing batches\"):\n",
    "        start = batch_idx * BATCH_SIZE\n",
    "        end = min(start + BATCH_SIZE, total)\n",
    "        batch_texts = text_list[start:end]\n",
    "\n",
    "        print(f\"Running batch {batch_idx + 1}/{num_batches} ({len(batch_texts)} items)...\")\n",
    "\n",
    "        batch_results = await run_all(batch_texts, start_idx=start)\n",
    "\n",
    "        for i, res in enumerate(batch_results):\n",
    "            idx = start + i\n",
    "            results[idx] = res[1]\n",
    "            if res[1] is None:\n",
    "                failed_indices.append(idx)\n",
    "\n",
    "        if batch_idx < num_batches - 1:\n",
    "            print(f\"Waiting {DELAY_BETWEEN_BATCHES}s before next batch...\")\n",
    "            await asyncio.sleep(DELAY_BETWEEN_BATCHES)\n",
    "\n",
    "    # Retry logic (optional)\n",
    "    \n",
    "    if failed_indices:\n",
    "        print(f\"\\nRetrying {len(failed_indices)} failed items...\")\n",
    "        retry_texts = [text_list[i] for i in failed_indices]\n",
    "        retry_results = await run_all(retry_texts, start_idx=0)\n",
    "        for i, (idx, res) in enumerate(zip(failed_indices, retry_results)):\n",
    "            results[idx] = res[1]\n",
    "\n",
    "    return results\n"
   ]
  },
  {
   "cell_type": "code",
   "execution_count": null,
   "id": "c2492ef7",
   "metadata": {},
   "outputs": [],
   "source": [
    "import nest_asyncio\n",
    "import asyncio\n",
    "\n",
    "nest_asyncio.apply()  \n",
    "\n",
    "final_results = await run_batched(l)\n",
    "\n"
   ]
  },
  {
   "cell_type": "code",
   "execution_count": null,
   "id": "435392e3",
   "metadata": {},
   "outputs": [
    {
     "name": "stdout",
     "output_type": "stream",
     "text": [
      "Saved to 'extracted_medical_reports2.csv'\n"
     ]
    }
   ],
   "source": [
    "import pandas as pd\n",
    "\n",
    "\n",
    "cleaned_results = [res.dict() if res else {} for res in final_results]\n",
    "\n",
    "\n",
    "df = pd.DataFrame(cleaned_results)\n",
    "\n",
    "\n",
    "df.to_csv(\"extracted_medical_reports2.csv\", index=False)\n",
    "\n",
    "print(\"Saved to 'extracted_medical_reports2.csv'\")\n"
   ]
  },
  {
   "cell_type": "markdown",
   "id": "85a56150",
   "metadata": {},
   "source": [
    "### Evaluation of extracted fields with groun truth values"
   ]
  },
  {
   "cell_type": "code",
   "execution_count": 5,
   "id": "30b3343c",
   "metadata": {},
   "outputs": [],
   "source": [
    "extracted_df=pd.read_csv(r'C:\\Users\\divya\\Documents\\GitHub\\Build_Projects_Open_Avenue\\week2\\Final_extracted_medical_reports.csv')"
   ]
  },
  {
   "cell_type": "code",
   "execution_count": 6,
   "id": "1d954ba6",
   "metadata": {},
   "outputs": [],
   "source": [
    "ground_truth_df=pd.read_csv(r'C:\\Users\\divya\\Documents\\GitHub\\Build_Projects_Open_Avenue\\week2\\ground_truth.csv')"
   ]
  },
  {
   "cell_type": "code",
   "execution_count": 7,
   "id": "312658f2",
   "metadata": {},
   "outputs": [],
   "source": [
    "fields = [\"findings\", \"clinicaldata\", \"ExamName\", \"impression\"]"
   ]
  },
  {
   "cell_type": "code",
   "execution_count": null,
   "id": "e8c68b60",
   "metadata": {},
   "outputs": [
    {
     "name": "stderr",
     "output_type": "stream",
     "text": [
      "Some weights of RobertaModel were not initialized from the model checkpoint at roberta-large and are newly initialized: ['pooler.dense.bias', 'pooler.dense.weight']\n",
      "You should probably TRAIN this model on a down-stream task to be able to use it for predictions and inference.\n"
     ]
    }
   ],
   "source": [
    "from bert_score import score as bert_score\n",
    "\n",
    "# Compute BERTScore for each field separately\n",
    "bert_results = []\n",
    "\n",
    "for field in fields:\n",
    "    references = ground_truth_df[field].tolist()\n",
    "    candidates = extracted_df[field].tolist()\n",
    "    \n",
    "    P, R, F1 = bert_score(candidates, references, lang=\"en\", verbose=False)\n",
    "    \n",
    "    bert_results.append({\n",
    "        \"Field\": field,\n",
    "        \"BERTScore Precision\": round(P.mean().item() * 100, 2),\n",
    "        \"BERTScore Recall\": round(R.mean().item() * 100, 2),\n",
    "        \"BERTScore F1\": round(F1.mean().item() * 100, 2)\n",
    "    })\n",
    "\n",
    "bert_df = pd.DataFrame(bert_results)\n",
    "bert_df\n"
   ]
  },
  {
   "cell_type": "code",
   "execution_count": null,
   "id": "001921c6",
   "metadata": {},
   "outputs": [],
   "source": [
    "from sklearn.metrics import precision_recall_fscore_support\n",
    "from rouge_score import rouge_scorer\n",
    "\n",
    "# Prepare lists for ROUGE/BERT-style comparison (treat each field as a separate generation task)\n",
    "rouge = rouge_scorer.RougeScorer(['rouge1', 'rougeL'], use_stemmer=True)\n",
    "\n",
    "rouge_results = []\n",
    "\n",
    "# Compute ROUGE scores for each field\n",
    "for field in fields:\n",
    "    scores = [rouge.score(ground_truth_df[field][i], extracted_df[field][i]) for i in range(len(extracted_df))]\n",
    "    \n",
    "    avg_rouge1 = sum([s['rouge1'].fmeasure for s in scores]) / len(scores)\n",
    "    avg_rougeL = sum([s['rougeL'].fmeasure for s in scores]) / len(scores)\n",
    "    \n",
    "    rouge_results.append({\n",
    "        \"Field\": field,\n",
    "        \"ROUGE-1 F1\": round(avg_rouge1 * 100, 2),\n",
    "        \"ROUGE-L F1\": round(avg_rougeL * 100, 2)\n",
    "    })\n",
    "\n",
    "rouge_df = pd.DataFrame(rouge_results)\n",
    "rouge_df\n"
   ]
  },
  {
   "cell_type": "code",
   "execution_count": null,
   "id": "187c2821",
   "metadata": {},
   "outputs": [],
   "source": [
    "from fuzzywuzzy import fuzz\n",
    "\n",
    "# Clean text: remove leading/trailing spaces and newlines\n",
    "def clean_text(s):\n",
    "    if isinstance(s, str):\n",
    "        return s.strip().replace('\\n', ' ').replace('\\r', '').lower()\n",
    "    return \"\"\n",
    "\n",
    "# Clean both extracted and ground truth dataframes\n",
    "\n",
    "for field in fields:\n",
    "    extracted_df[field] = extracted_df[field].apply(clean_text)\n",
    "    ground_truth_df[field] = ground_truth_df[field].apply(clean_text)\n",
    "\n",
    "# Initialize evaluation metrics\n",
    "results = []\n",
    "\n",
    "# Calculate exact match and fuzzy match for each field\n",
    "for field in fields:\n",
    "    exact_matches = (extracted_df[field] == ground_truth_df[field]).sum()\n",
    "    total = len(extracted_df)\n",
    "    exact_accuracy = exact_matches / total * 100\n",
    "\n",
    "    fuzzy_scores = [\n",
    "        fuzz.token_set_ratio(extracted_df[field][i], ground_truth_df[field][i])\n",
    "        for i in range(total)\n",
    "    ]\n",
    "    avg_fuzzy_score = sum(fuzzy_scores) / total\n",
    "\n",
    "    results.append({\n",
    "        \"Field\": field,\n",
    "        \"Exact Match Accuracy (%)\": round(exact_accuracy, 2),\n",
    "        \"Average Fuzzy Match Score (%)\": round(avg_fuzzy_score, 2)\n",
    "    })\n",
    "\n",
    "# Convert results to a DataFrame for display\n",
    "evaluation_df = pd.DataFrame(results)\n",
    "evaluation_df\n"
   ]
  },
  {
   "cell_type": "code",
   "execution_count": null,
   "id": "8bb10517",
   "metadata": {},
   "outputs": [],
   "source": []
  },
  {
   "cell_type": "code",
   "execution_count": null,
   "id": "f2339c32",
   "metadata": {},
   "outputs": [],
   "source": []
  }
 ],
 "metadata": {
  "kernelspec": {
   "display_name": "myvenv",
   "language": "python",
   "name": "python3"
  },
  "language_info": {
   "codemirror_mode": {
    "name": "ipython",
    "version": 3
   },
   "file_extension": ".py",
   "mimetype": "text/x-python",
   "name": "python",
   "nbconvert_exporter": "python",
   "pygments_lexer": "ipython3",
   "version": "3.12.7"
  }
 },
 "nbformat": 4,
 "nbformat_minor": 5
}
