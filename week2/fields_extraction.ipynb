{
 "cells": [
  {
   "cell_type": "markdown",
   "id": "7133a18a",
   "metadata": {},
   "source": [
    "#### Importing Required Libraries"
   ]
  },
  {
   "cell_type": "code",
   "execution_count": 3,
   "id": "07823428",
   "metadata": {},
   "outputs": [],
   "source": [
    "import pandas as pd\n",
    "import warnings\n",
    "warnings.filterwarnings(\"ignore\")"
   ]
  },
  {
   "cell_type": "code",
   "execution_count": 4,
   "id": "8708280d",
   "metadata": {},
   "outputs": [],
   "source": [
    "data=pd.read_csv(r\"C:\\Users\\divya\\Documents\\GitHub\\Build_Projects_Open_Avenue\\week2\\open_ave_data.csv\")"
   ]
  },
  {
   "cell_type": "code",
   "execution_count": 15,
   "id": "a5ca22b2",
   "metadata": {},
   "outputs": [
    {
     "data": {
      "text/html": [
       "<div>\n",
       "<style scoped>\n",
       "    .dataframe tbody tr th:only-of-type {\n",
       "        vertical-align: middle;\n",
       "    }\n",
       "\n",
       "    .dataframe tbody tr th {\n",
       "        vertical-align: top;\n",
       "    }\n",
       "\n",
       "    .dataframe thead th {\n",
       "        text-align: right;\n",
       "    }\n",
       "</style>\n",
       "<table border=\"1\" class=\"dataframe\">\n",
       "  <thead>\n",
       "    <tr style=\"text-align: right;\">\n",
       "      <th></th>\n",
       "      <th>Unnamed: 0</th>\n",
       "      <th>ReportText</th>\n",
       "      <th>findings</th>\n",
       "      <th>clinicaldata</th>\n",
       "      <th>ExamName</th>\n",
       "      <th>impression</th>\n",
       "    </tr>\n",
       "  </thead>\n",
       "  <tbody>\n",
       "    <tr>\n",
       "      <th>0</th>\n",
       "      <td>0</td>\n",
       "      <td>EXAM: CHEST RADIOGRAPHY EXAM DATE: 06/01/2019 ...</td>\n",
       "      <td>FINDINGS: Lungs/Pleura: No focal opacities evi...</td>\n",
       "      <td>CLINICAL HISTORY: Cough. \\n\\n</td>\n",
       "      <td>EXAM: CHEST RADIOGRAPHY EXAM DATE: 06/01/2019 ...</td>\n",
       "      <td>IMPRESSION: Normal 2-view chest radiography.</td>\n",
       "    </tr>\n",
       "    <tr>\n",
       "      <th>1</th>\n",
       "      <td>1</td>\n",
       "      <td>EXAM: CHEST RADIOGRAPHY EXAM DATE: 05/23/2020 ...</td>\n",
       "      <td>FINDINGS: Lungs/Pleura: No focal opacities evi...</td>\n",
       "      <td>CLINICAL HISTORY: CHEST PAIN. \\n\\n</td>\n",
       "      <td>EXAM: CHEST RADIOGRAPHY EXAM DATE: 05/23/2020 ...</td>\n",
       "      <td>IMPRESSION: No acute cardiopulmonary abnormali...</td>\n",
       "    </tr>\n",
       "    <tr>\n",
       "      <th>2</th>\n",
       "      <td>2</td>\n",
       "      <td>EXAM: CHEST RADIOGRAPHY EXAM DATE: 12/13/2019 ...</td>\n",
       "      <td>FINDINGS: Lungs/Pleura: No focal opacities evi...</td>\n",
       "      <td>CLINICAL HISTORY: CHEST PAIN. \\n\\n</td>\n",
       "      <td>EXAM: CHEST RADIOGRAPHY EXAM DATE: 12/13/2019 ...</td>\n",
       "      <td>IMPRESSION: No acute cardiopulmonary process.</td>\n",
       "    </tr>\n",
       "    <tr>\n",
       "      <th>3</th>\n",
       "      <td>3</td>\n",
       "      <td>Exam: - CHEST-PORTABLE History: Chest pain Com...</td>\n",
       "      <td>Findings: Heart size appears normal. Lungs cle...</td>\n",
       "      <td>History: Chest pain \\n\\n</td>\n",
       "      <td>Exam: - CHEST-PORTABLE\\n\\nComparison: None</td>\n",
       "      <td>Impression: Lungs clear</td>\n",
       "    </tr>\n",
       "    <tr>\n",
       "      <th>4</th>\n",
       "      <td>4</td>\n",
       "      <td>EXAM: CHEST RADIOGRAPHY EXAM DATE: 06/17/2021 ...</td>\n",
       "      <td>FINDINGS: Lungs/Pleura: No focal opacities evi...</td>\n",
       "      <td>CLINICAL HISTORY: CHEST PAIN, SHORTNESS OF BRE...</td>\n",
       "      <td>EXAM: CHEST RADIOGRAPHY EXAM DATE: 06/17/2021 ...</td>\n",
       "      <td>IMPRESSION: Normal single view chest.</td>\n",
       "    </tr>\n",
       "  </tbody>\n",
       "</table>\n",
       "</div>"
      ],
      "text/plain": [
       "   Unnamed: 0                                         ReportText  \\\n",
       "0           0  EXAM: CHEST RADIOGRAPHY EXAM DATE: 06/01/2019 ...   \n",
       "1           1  EXAM: CHEST RADIOGRAPHY EXAM DATE: 05/23/2020 ...   \n",
       "2           2  EXAM: CHEST RADIOGRAPHY EXAM DATE: 12/13/2019 ...   \n",
       "3           3  Exam: - CHEST-PORTABLE History: Chest pain Com...   \n",
       "4           4  EXAM: CHEST RADIOGRAPHY EXAM DATE: 06/17/2021 ...   \n",
       "\n",
       "                                            findings  \\\n",
       "0  FINDINGS: Lungs/Pleura: No focal opacities evi...   \n",
       "1  FINDINGS: Lungs/Pleura: No focal opacities evi...   \n",
       "2  FINDINGS: Lungs/Pleura: No focal opacities evi...   \n",
       "3  Findings: Heart size appears normal. Lungs cle...   \n",
       "4  FINDINGS: Lungs/Pleura: No focal opacities evi...   \n",
       "\n",
       "                                        clinicaldata  \\\n",
       "0                      CLINICAL HISTORY: Cough. \\n\\n   \n",
       "1                 CLINICAL HISTORY: CHEST PAIN. \\n\\n   \n",
       "2                 CLINICAL HISTORY: CHEST PAIN. \\n\\n   \n",
       "3                           History: Chest pain \\n\\n   \n",
       "4  CLINICAL HISTORY: CHEST PAIN, SHORTNESS OF BRE...   \n",
       "\n",
       "                                            ExamName  \\\n",
       "0  EXAM: CHEST RADIOGRAPHY EXAM DATE: 06/01/2019 ...   \n",
       "1  EXAM: CHEST RADIOGRAPHY EXAM DATE: 05/23/2020 ...   \n",
       "2  EXAM: CHEST RADIOGRAPHY EXAM DATE: 12/13/2019 ...   \n",
       "3         Exam: - CHEST-PORTABLE\\n\\nComparison: None   \n",
       "4  EXAM: CHEST RADIOGRAPHY EXAM DATE: 06/17/2021 ...   \n",
       "\n",
       "                                          impression  \n",
       "0      IMPRESSION: Normal 2-view chest radiography.   \n",
       "1  IMPRESSION: No acute cardiopulmonary abnormali...  \n",
       "2     IMPRESSION: No acute cardiopulmonary process.   \n",
       "3                            Impression: Lungs clear  \n",
       "4             IMPRESSION: Normal single view chest.   "
      ]
     },
     "execution_count": 15,
     "metadata": {},
     "output_type": "execute_result"
    }
   ],
   "source": [
    "data.head()"
   ]
  },
  {
   "cell_type": "code",
   "execution_count": 16,
   "id": "c7b3c30b",
   "metadata": {},
   "outputs": [],
   "source": [
    "data.drop(labels='Unnamed: 0',axis=1,inplace=True)"
   ]
  },
  {
   "cell_type": "code",
   "execution_count": 17,
   "id": "d2b6195e",
   "metadata": {},
   "outputs": [
    {
     "data": {
      "text/html": [
       "<div>\n",
       "<style scoped>\n",
       "    .dataframe tbody tr th:only-of-type {\n",
       "        vertical-align: middle;\n",
       "    }\n",
       "\n",
       "    .dataframe tbody tr th {\n",
       "        vertical-align: top;\n",
       "    }\n",
       "\n",
       "    .dataframe thead th {\n",
       "        text-align: right;\n",
       "    }\n",
       "</style>\n",
       "<table border=\"1\" class=\"dataframe\">\n",
       "  <thead>\n",
       "    <tr style=\"text-align: right;\">\n",
       "      <th></th>\n",
       "      <th>ReportText</th>\n",
       "    </tr>\n",
       "  </thead>\n",
       "  <tbody>\n",
       "    <tr>\n",
       "      <th>0</th>\n",
       "      <td>EXAM: CHEST RADIOGRAPHY EXAM DATE: 06/01/2019 ...</td>\n",
       "    </tr>\n",
       "    <tr>\n",
       "      <th>1</th>\n",
       "      <td>EXAM: CHEST RADIOGRAPHY EXAM DATE: 05/23/2020 ...</td>\n",
       "    </tr>\n",
       "    <tr>\n",
       "      <th>2</th>\n",
       "      <td>EXAM: CHEST RADIOGRAPHY EXAM DATE: 12/13/2019 ...</td>\n",
       "    </tr>\n",
       "    <tr>\n",
       "      <th>3</th>\n",
       "      <td>Exam: - CHEST-PORTABLE History: Chest pain Com...</td>\n",
       "    </tr>\n",
       "    <tr>\n",
       "      <th>4</th>\n",
       "      <td>EXAM: CHEST RADIOGRAPHY EXAM DATE: 06/17/2021 ...</td>\n",
       "    </tr>\n",
       "  </tbody>\n",
       "</table>\n",
       "</div>"
      ],
      "text/plain": [
       "                                          ReportText\n",
       "0  EXAM: CHEST RADIOGRAPHY EXAM DATE: 06/01/2019 ...\n",
       "1  EXAM: CHEST RADIOGRAPHY EXAM DATE: 05/23/2020 ...\n",
       "2  EXAM: CHEST RADIOGRAPHY EXAM DATE: 12/13/2019 ...\n",
       "3  Exam: - CHEST-PORTABLE History: Chest pain Com...\n",
       "4  EXAM: CHEST RADIOGRAPHY EXAM DATE: 06/17/2021 ..."
      ]
     },
     "execution_count": 17,
     "metadata": {},
     "output_type": "execute_result"
    }
   ],
   "source": [
    "df=data[[\"ReportText\"]]\n",
    "df.head()"
   ]
  },
  {
   "cell_type": "code",
   "execution_count": 18,
   "id": "ce342a2f",
   "metadata": {},
   "outputs": [],
   "source": [
    "l=df.to_numpy().tolist()\n",
    "l=l[:10]"
   ]
  },
  {
   "cell_type": "markdown",
   "id": "8f168148",
   "metadata": {},
   "source": [
    "#### Setting up LLM"
   ]
  },
  {
   "cell_type": "markdown",
   "id": "37f58d2f",
   "metadata": {},
   "source": [
    "##### loading environ variable / API Keys to use model"
   ]
  },
  {
   "cell_type": "code",
   "execution_count": 5,
   "id": "80c7f1a0",
   "metadata": {},
   "outputs": [
    {
     "data": {
      "text/plain": [
       "True"
      ]
     },
     "execution_count": 5,
     "metadata": {},
     "output_type": "execute_result"
    }
   ],
   "source": [
    "from dotenv import load_dotenv\n",
    "load_dotenv()\n",
    "\n"
   ]
  },
  {
   "cell_type": "code",
   "execution_count": 20,
   "id": "659676db",
   "metadata": {},
   "outputs": [],
   "source": [
    "from langchain_groq import ChatGroq\n",
    "\n",
    "llm=ChatGroq(model=\"llama-3.1-8b-instant\")"
   ]
  },
  {
   "cell_type": "markdown",
   "id": "be5a071d",
   "metadata": {},
   "source": [
    "#### Prompt Setup"
   ]
  },
  {
   "cell_type": "code",
   "execution_count": 21,
   "id": "54e6c26b",
   "metadata": {},
   "outputs": [],
   "source": [
    "from langchain_core.prompts import ChatPromptTemplate"
   ]
  },
  {
   "cell_type": "markdown",
   "id": "97fa7d7a",
   "metadata": {},
   "source": [
    "#### Pydantic Class setup  and output parser\n",
    "\n",
    "- For Data validation\n",
    "- To ensure the output is in the required JSON format"
   ]
  },
  {
   "cell_type": "code",
   "execution_count": 22,
   "id": "3a757c73",
   "metadata": {},
   "outputs": [],
   "source": [
    "from pydantic import BaseModel,Field\n",
    "from langchain_core.output_parsers import PydanticOutputParser\n"
   ]
  },
  {
   "cell_type": "code",
   "execution_count": 23,
   "id": "52fe4869",
   "metadata": {},
   "outputs": [
    {
     "data": {
      "text/plain": [
       "Index(['ReportText', 'findings', 'clinicaldata', 'ExamName', 'impression'], dtype='object')"
      ]
     },
     "execution_count": 23,
     "metadata": {},
     "output_type": "execute_result"
    }
   ],
   "source": [
    "data.columns"
   ]
  },
  {
   "cell_type": "code",
   "execution_count": 24,
   "id": "8dbd0326",
   "metadata": {},
   "outputs": [],
   "source": [
    "class FieldsExtraction(BaseModel):\n",
    "    findings:str=Field(description=\"Radiologist's technical observations\")\n",
    "    clinicaldata:str=Field(description=\"Reason for examination (e.g., symptoms like chest pain, shortness of breath)\")\n",
    "    ExamName:str=Field(description=\"Exam type and date\")\n",
    "    impression:str=Field(description=\"Final diagnosis or summary\")"
   ]
  },
  {
   "cell_type": "code",
   "execution_count": 25,
   "id": "8ba7adf7",
   "metadata": {},
   "outputs": [],
   "source": [
    "output_parser=PydanticOutputParser(pydantic_object=FieldsExtraction)\n",
    "format_instructions = output_parser.get_format_instructions()\n",
    "output_parser.get_format_instructions()\n",
    "result=[]"
   ]
  },
  {
   "cell_type": "code",
   "execution_count": 26,
   "id": "d8d7455f",
   "metadata": {},
   "outputs": [],
   "source": [
    "prompt = ChatPromptTemplate.from_messages([\n",
    "        (\"system\", \"\"\"You are a helpful medical data extraction assistant. \n",
    "\n",
    "            From the given \"Report Text\", extract the following fields and return ONLY a JSON object, and nothing else. \n",
    "            Use the format described in {format_instructions}. Do not add explanations, Python code, or markdown formatting. \n",
    "            Return exactly this structure:\n",
    "         \n",
    "            Only return a JSON object with the following fields:\n",
    "\n",
    "            ### Fields to be extracted:\n",
    "            - findings\n",
    "            - clinicaldata\n",
    "            - ExamName\n",
    "            - impression\n",
    "\n",
    "            ### Example:\n",
    "\n",
    "            Input:\n",
    "            EXAM: CHEST RADIOGRAPHY EXAM DATE: 06/01/2019 08:30 PM. CLINICAL HISTORY: Cough. COMPARISON: None. TECHNIQUE: 2 views. FINDINGS: Lungs/Pleura: No focal opacities evident. No pleural effusion. No pneumothorax. Normal volumes. Mediastinum: Heart and mediastinal contours are unremarkable. Other: None. IMPRESSION: Normal 2-view chest radiography Dictated by: [[PERSONALNAME]] on 06/01/2019 08:42 PM. Electronically signed by: [[PERSONALNAME]] on 06/01/2019 08:43 PM.\n",
    "\n",
    "            Extracted:\n",
    "            findings = FINDINGS: Lungs/Pleura: No focal opacities evident. No pleural effusion. No pneumothorax. Normal volumes. Mediastinum: Heart and mediastinal contours are unremarkable. Other: None.  \n",
    "            clinicaldata = CLINICAL HISTORY: Cough.  \n",
    "            ExamName = EXAM: CHEST RADIOGRAPHY EXAM DATE: 06/01/2019 08:30 PM. TECHNIQUE: 2 views. COMPARISON: None.  \n",
    "            impression = IMPRESSION: Normal 2-view chest radiography    Dictated by: [[PERSONALNAME]] on 06/01/2019 08:42 PM. Electronically signed by: [[PERSONALNAME]] on 06/01/2019 08:43 PM.\n",
    "         \n",
    "            ### NOTE: Return all fields as flat strings — do not nest them or break into subfields like 'examdate' or 'examname'. Return 'ExamName' as a single string, just as found in the report. \"\"\"),\n",
    "                \n",
    "                \n",
    "            (\"user\", \"{input}\") ])"
   ]
  },
  {
   "cell_type": "code",
   "execution_count": 27,
   "id": "28d07790",
   "metadata": {},
   "outputs": [],
   "source": [
    "chain = prompt | llm | output_parser"
   ]
  },
  {
   "cell_type": "code",
   "execution_count": 28,
   "id": "c9db571c",
   "metadata": {},
   "outputs": [],
   "source": [
    "import asyncio\n",
    "from langchain_core.exceptions import OutputParserException\n",
    "from tqdm import tqdm\n",
    "import math\n",
    "import time\n",
    "\n",
    "# Number of requests per minute (to stay below the limit)\n",
    "\n",
    "BATCH_SIZE = 25\n",
    "DELAY_BETWEEN_BATCHES = 60  # seconds\n",
    "\n",
    "async def process_async(index, text):\n",
    "    try:\n",
    "        response = await chain.ainvoke({\n",
    "            \"input\": text,\n",
    "            \"format_instructions\": output_parser.get_format_instructions()\n",
    "        })\n",
    "        return index, response\n",
    "    except OutputParserException as e:\n",
    "        print(f\"[OutputParseError] Index {index}:\\n\", e.llm_output)\n",
    "        return index, None\n",
    "    except Exception as e:\n",
    "        print(f\"[Error] Index {index}: {e}\")\n",
    "        return index, None\n",
    "\n",
    "async def run_all(text_list, start_idx=0):\n",
    "    tasks = [process_async(start_idx + i, text) for i, text in enumerate(text_list)]\n",
    "    return await asyncio.gather(*tasks)\n",
    "\n",
    "async def run_batched(text_list):\n",
    "    total = len(text_list)\n",
    "    results = [None] * total\n",
    "    failed_indices = []\n",
    "\n",
    "    num_batches = math.ceil(total / BATCH_SIZE)\n",
    "\n",
    "    for batch_idx in tqdm(range(num_batches), desc=\"Processing batches\"):\n",
    "        start = batch_idx * BATCH_SIZE\n",
    "        end = min(start + BATCH_SIZE, total)\n",
    "        batch_texts = text_list[start:end]\n",
    "\n",
    "        print(f\"Running batch {batch_idx + 1}/{num_batches} ({len(batch_texts)} items)...\")\n",
    "\n",
    "        batch_results = await run_all(batch_texts, start_idx=start)\n",
    "\n",
    "        for i, res in enumerate(batch_results):\n",
    "            idx = start + i\n",
    "            results[idx] = res[1]\n",
    "            if res[1] is None:\n",
    "                failed_indices.append(idx)\n",
    "\n",
    "        if batch_idx < num_batches - 1:\n",
    "            print(f\"Waiting {DELAY_BETWEEN_BATCHES}s before next batch...\")\n",
    "            await asyncio.sleep(DELAY_BETWEEN_BATCHES)\n",
    "\n",
    "    # Retry logic (optional)\n",
    "    \n",
    "    if failed_indices:\n",
    "        print(f\"\\nRetrying {len(failed_indices)} failed items...\")\n",
    "        retry_texts = [text_list[i] for i in failed_indices]\n",
    "        retry_results = await run_all(retry_texts, start_idx=0)\n",
    "        for i, (idx, res) in enumerate(zip(failed_indices, retry_results)):\n",
    "            results[idx] = res[1]\n",
    "\n",
    "    return results\n"
   ]
  },
  {
   "cell_type": "code",
   "execution_count": 29,
   "id": "c2492ef7",
   "metadata": {},
   "outputs": [
    {
     "name": "stderr",
     "output_type": "stream",
     "text": [
      "Processing batches:   0%|          | 0/1 [00:00<?, ?it/s]"
     ]
    },
    {
     "name": "stdout",
     "output_type": "stream",
     "text": [
      "Running batch 1/1 (10 items)...\n"
     ]
    },
    {
     "name": "stderr",
     "output_type": "stream",
     "text": [
      "Processing batches: 100%|██████████| 1/1 [00:01<00:00,  1.16s/it]"
     ]
    },
    {
     "name": "stdout",
     "output_type": "stream",
     "text": [
      "[OutputParseError] Index 7:\n",
      " null\n",
      "\n",
      "Retrying 1 failed items...\n"
     ]
    },
    {
     "name": "stderr",
     "output_type": "stream",
     "text": [
      "\n"
     ]
    },
    {
     "name": "stdout",
     "output_type": "stream",
     "text": [
      "[OutputParseError] Index 0:\n",
      " null\n"
     ]
    }
   ],
   "source": [
    "import nest_asyncio\n",
    "import asyncio\n",
    "\n",
    "nest_asyncio.apply()  \n",
    "\n",
    "final_results = await run_batched(l)\n",
    "\n"
   ]
  },
  {
   "cell_type": "code",
   "execution_count": 30,
   "id": "435392e3",
   "metadata": {},
   "outputs": [
    {
     "name": "stdout",
     "output_type": "stream",
     "text": [
      "Saved to 'extracted_medical_reports.csv'\n"
     ]
    }
   ],
   "source": [
    "import pandas as pd\n",
    "\n",
    "\n",
    "cleaned_results = [res.dict() if res else {} for res in final_results]\n",
    "\n",
    "\n",
    "df = pd.DataFrame(cleaned_results)\n",
    "\n",
    "\n",
    "df.to_csv(\"extracted_medical_reports_new.csv\", index=False)\n",
    "\n",
    "print(\"Saved to 'extracted_medical_reports.csv'\")\n"
   ]
  },
  {
   "cell_type": "markdown",
   "id": "85a56150",
   "metadata": {},
   "source": [
    "### Evaluation of extracted fields with ground truth values"
   ]
  },
  {
   "cell_type": "code",
   "execution_count": 6,
   "id": "30b3343c",
   "metadata": {},
   "outputs": [],
   "source": [
    "extracted_df=pd.read_csv(r'C:\\Users\\divya\\Documents\\GitHub\\Build_Projects_Open_Avenue\\week2\\Final_extracted_medical_reports.csv')"
   ]
  },
  {
   "cell_type": "code",
   "execution_count": 7,
   "id": "1d954ba6",
   "metadata": {},
   "outputs": [],
   "source": [
    "ground_truth_df=pd.read_csv(r'C:\\Users\\divya\\Documents\\GitHub\\Build_Projects_Open_Avenue\\week2\\ground_truth.csv')"
   ]
  },
  {
   "cell_type": "code",
   "execution_count": 8,
   "id": "312658f2",
   "metadata": {},
   "outputs": [],
   "source": [
    "fields = [\"findings\", \"clinicaldata\", \"ExamName\", \"impression\"]"
   ]
  },
  {
   "cell_type": "code",
   "execution_count": 11,
   "id": "e8c68b60",
   "metadata": {},
   "outputs": [
    {
     "name": "stderr",
     "output_type": "stream",
     "text": [
      "Some weights of RobertaModel were not initialized from the model checkpoint at roberta-large and are newly initialized: ['pooler.dense.bias', 'pooler.dense.weight']\n",
      "You should probably TRAIN this model on a down-stream task to be able to use it for predictions and inference.\n"
     ]
    },
    {
     "name": "stdout",
     "output_type": "stream",
     "text": [
      "calculating scores...\n",
      "computing bert embedding.\n"
     ]
    },
    {
     "name": "stderr",
     "output_type": "stream",
     "text": [
      "100%|██████████| 9/9 [02:12<00:00, 14.74s/it]\n"
     ]
    },
    {
     "name": "stdout",
     "output_type": "stream",
     "text": [
      "computing greedy matching.\n"
     ]
    },
    {
     "name": "stderr",
     "output_type": "stream",
     "text": [
      "100%|██████████| 15/15 [00:01<00:00,  9.53it/s]\n"
     ]
    },
    {
     "name": "stdout",
     "output_type": "stream",
     "text": [
      "done in 134.31 seconds, 7.10 sentences/sec\n"
     ]
    },
    {
     "name": "stderr",
     "output_type": "stream",
     "text": [
      "Some weights of RobertaModel were not initialized from the model checkpoint at roberta-large and are newly initialized: ['pooler.dense.bias', 'pooler.dense.weight']\n",
      "You should probably TRAIN this model on a down-stream task to be able to use it for predictions and inference.\n"
     ]
    },
    {
     "name": "stdout",
     "output_type": "stream",
     "text": [
      "calculating scores...\n",
      "computing bert embedding.\n"
     ]
    },
    {
     "name": "stderr",
     "output_type": "stream",
     "text": [
      "100%|██████████| 7/7 [00:32<00:00,  4.62s/it]\n"
     ]
    },
    {
     "name": "stdout",
     "output_type": "stream",
     "text": [
      "computing greedy matching.\n"
     ]
    },
    {
     "name": "stderr",
     "output_type": "stream",
     "text": [
      "  0%|          | 0/15 [00:00<?, ?it/s]Warning: Empty candidate sentence detected; setting raw BERTscores to 0.\n",
      "Warning: Empty reference sentence detected; setting raw BERTScores to 0.\n",
      " 27%|██▋       | 4/15 [00:00<00:00, 29.81it/s]Warning: Empty reference sentence detected; setting raw BERTScores to 0.\n",
      " 47%|████▋     | 7/15 [00:00<00:00, 28.92it/s]Warning: Empty reference sentence detected; setting raw BERTScores to 0.\n",
      " 73%|███████▎  | 11/15 [00:00<00:00, 33.36it/s]Warning: Empty reference sentence detected; setting raw BERTScores to 0.\n",
      "100%|██████████| 15/15 [00:00<00:00, 33.68it/s]\n"
     ]
    },
    {
     "name": "stdout",
     "output_type": "stream",
     "text": [
      "done in 32.83 seconds, 29.06 sentences/sec\n"
     ]
    },
    {
     "name": "stderr",
     "output_type": "stream",
     "text": [
      "Some weights of RobertaModel were not initialized from the model checkpoint at roberta-large and are newly initialized: ['pooler.dense.bias', 'pooler.dense.weight']\n",
      "You should probably TRAIN this model on a down-stream task to be able to use it for predictions and inference.\n"
     ]
    },
    {
     "name": "stdout",
     "output_type": "stream",
     "text": [
      "calculating scores...\n",
      "computing bert embedding.\n"
     ]
    },
    {
     "name": "stderr",
     "output_type": "stream",
     "text": [
      "100%|██████████| 24/24 [03:36<00:00,  9.01s/it]\n"
     ]
    },
    {
     "name": "stdout",
     "output_type": "stream",
     "text": [
      "computing greedy matching.\n"
     ]
    },
    {
     "name": "stderr",
     "output_type": "stream",
     "text": [
      "100%|██████████| 15/15 [00:01<00:00, 14.49it/s]\n"
     ]
    },
    {
     "name": "stdout",
     "output_type": "stream",
     "text": [
      "done in 217.38 seconds, 4.39 sentences/sec\n"
     ]
    },
    {
     "name": "stderr",
     "output_type": "stream",
     "text": [
      "Some weights of RobertaModel were not initialized from the model checkpoint at roberta-large and are newly initialized: ['pooler.dense.bias', 'pooler.dense.weight']\n",
      "You should probably TRAIN this model on a down-stream task to be able to use it for predictions and inference.\n"
     ]
    },
    {
     "name": "stdout",
     "output_type": "stream",
     "text": [
      "calculating scores...\n",
      "computing bert embedding.\n"
     ]
    },
    {
     "name": "stderr",
     "output_type": "stream",
     "text": [
      "100%|██████████| 11/11 [01:55<00:00, 10.48s/it]\n"
     ]
    },
    {
     "name": "stdout",
     "output_type": "stream",
     "text": [
      "computing greedy matching.\n"
     ]
    },
    {
     "name": "stderr",
     "output_type": "stream",
     "text": [
      "100%|██████████| 15/15 [00:00<00:00, 18.55it/s]\n"
     ]
    },
    {
     "name": "stdout",
     "output_type": "stream",
     "text": [
      "done in 116.06 seconds, 8.22 sentences/sec\n",
      "          Field  BERTScore Precision  BERTScore Recall  BERTScore F1\n",
      "0      findings                99.52             99.33         99.42\n",
      "1  clinicaldata                98.55             98.27         98.40\n",
      "2      ExamName                95.46             94.86         95.13\n",
      "3    impression                99.09             98.40         98.72\n"
     ]
    }
   ],
   "source": [
    "from bert_score import score as bert_score\n",
    "import pandas as pd\n",
    "\n",
    "# Ensure all values are strings (replace NaN/float with empty string)\n",
    "def safe_text(x):\n",
    "    return str(x).strip().lower() if isinstance(x, str) else \"\"\n",
    "\n",
    "bert_results = []\n",
    "\n",
    "for field in fields:\n",
    "    references = [safe_text(x) for x in ground_truth_df[field]]\n",
    "    candidates = [safe_text(x) for x in extracted_df[field]]\n",
    "    \n",
    "    P, R, F1 = bert_score(candidates, references, lang=\"en\", verbose=True)\n",
    "\n",
    "    bert_results.append({\n",
    "        \"Field\": field,\n",
    "        \"BERTScore Precision\": round(P.mean().item() * 100, 2),\n",
    "        \"BERTScore Recall\": round(R.mean().item() * 100, 2),\n",
    "        \"BERTScore F1\": round(F1.mean().item() * 100, 2)\n",
    "    })\n",
    "\n",
    "bert_df = pd.DataFrame(bert_results)\n",
    "print(bert_df)\n"
   ]
  },
  {
   "cell_type": "code",
   "execution_count": 12,
   "id": "001921c6",
   "metadata": {},
   "outputs": [
    {
     "name": "stdout",
     "output_type": "stream",
     "text": [
      "          Field  ROUGE-1 F1  ROUGE-L F1\n",
      "0      findings       98.11       98.02\n",
      "1  clinicaldata       95.84       95.77\n",
      "2      ExamName       87.12       82.35\n",
      "3    impression       96.28       96.28\n"
     ]
    }
   ],
   "source": [
    "from rouge_score import rouge_scorer\n",
    "import pandas as pd\n",
    "\n",
    "# Function to clean and standardize text inputs\n",
    "def safe_text(x):\n",
    "    return str(x).strip().lower() if isinstance(x, str) else \"\"\n",
    "\n",
    "# Re-initialize the scorer\n",
    "rouge = rouge_scorer.RougeScorer(['rouge1', 'rougeL'], use_stemmer=True)\n",
    "rouge_results = []\n",
    "\n",
    "# Compute ROUGE scores with safe text conversion\n",
    "for field in fields:\n",
    "    references = [safe_text(x) for x in ground_truth_df[field]]\n",
    "    predictions = [safe_text(x) for x in extracted_df[field]]\n",
    "    \n",
    "    scores = [rouge.score(ref, pred) for ref, pred in zip(references, predictions)]\n",
    "    \n",
    "    avg_rouge1 = sum([s['rouge1'].fmeasure for s in scores]) / len(scores)\n",
    "    avg_rougeL = sum([s['rougeL'].fmeasure for s in scores]) / len(scores)\n",
    "    \n",
    "    rouge_results.append({\n",
    "        \"Field\": field,\n",
    "        \"ROUGE-1 F1\": round(avg_rouge1 * 100, 2),\n",
    "        \"ROUGE-L F1\": round(avg_rougeL * 100, 2)\n",
    "    })\n",
    "\n",
    "rouge_df = pd.DataFrame(rouge_results)\n",
    "print(rouge_df)\n"
   ]
  },
  {
   "cell_type": "code",
   "execution_count": null,
   "id": "187c2821",
   "metadata": {},
   "outputs": [
    {
     "data": {
      "text/html": [
       "<div>\n",
       "<style scoped>\n",
       "    .dataframe tbody tr th:only-of-type {\n",
       "        vertical-align: middle;\n",
       "    }\n",
       "\n",
       "    .dataframe tbody tr th {\n",
       "        vertical-align: top;\n",
       "    }\n",
       "\n",
       "    .dataframe thead th {\n",
       "        text-align: right;\n",
       "    }\n",
       "</style>\n",
       "<table border=\"1\" class=\"dataframe\">\n",
       "  <thead>\n",
       "    <tr style=\"text-align: right;\">\n",
       "      <th></th>\n",
       "      <th>Field</th>\n",
       "      <th>Exact Match Accuracy (%)</th>\n",
       "      <th>Average Fuzzy Match Score (%)</th>\n",
       "    </tr>\n",
       "  </thead>\n",
       "  <tbody>\n",
       "    <tr>\n",
       "      <th>0</th>\n",
       "      <td>findings</td>\n",
       "      <td>76.52</td>\n",
       "      <td>99.22</td>\n",
       "    </tr>\n",
       "    <tr>\n",
       "      <th>1</th>\n",
       "      <td>clinicaldata</td>\n",
       "      <td>83.23</td>\n",
       "      <td>98.82</td>\n",
       "    </tr>\n",
       "    <tr>\n",
       "      <th>2</th>\n",
       "      <td>ExamName</td>\n",
       "      <td>0.63</td>\n",
       "      <td>99.28</td>\n",
       "    </tr>\n",
       "    <tr>\n",
       "      <th>3</th>\n",
       "      <td>impression</td>\n",
       "      <td>70.34</td>\n",
       "      <td>99.26</td>\n",
       "    </tr>\n",
       "  </tbody>\n",
       "</table>\n",
       "</div>"
      ],
      "text/plain": [
       "          Field  Exact Match Accuracy (%)  Average Fuzzy Match Score (%)\n",
       "0      findings                     76.52                          99.22\n",
       "1  clinicaldata                     83.23                          98.82\n",
       "2      ExamName                      0.63                          99.28\n",
       "3    impression                     70.34                          99.26"
      ]
     },
     "execution_count": 10,
     "metadata": {},
     "output_type": "execute_result"
    }
   ],
   "source": [
    "from fuzzywuzzy import fuzz\n",
    "\n",
    "\n",
    "def clean_text(s):\n",
    "    if isinstance(s, str):\n",
    "        return s.strip().replace('\\n', ' ').replace('\\r', '').lower()\n",
    "    return \"\"\n",
    "\n",
    "# Clean both extracted and ground truth dataframes\n",
    "\n",
    "for field in fields:\n",
    "    extracted_df[field] = extracted_df[field].apply(clean_text)\n",
    "    ground_truth_df[field] = ground_truth_df[field].apply(clean_text)\n",
    "\n",
    "# Initialize evaluation metrics\n",
    "results = []\n",
    "\n",
    "# Calculate exact match and fuzzy match for each field\n",
    "for field in fields:\n",
    "    exact_matches = (extracted_df[field] == ground_truth_df[field]).sum()\n",
    "    total = len(extracted_df)\n",
    "    exact_accuracy = exact_matches / total * 100\n",
    "\n",
    "    fuzzy_scores = [\n",
    "        fuzz.token_set_ratio(extracted_df[field][i], ground_truth_df[field][i])\n",
    "        for i in range(total)\n",
    "    ]\n",
    "    avg_fuzzy_score = sum(fuzzy_scores) / total\n",
    "\n",
    "    results.append({\n",
    "        \"Field\": field,\n",
    "        \"Exact Match Accuracy (%)\": round(exact_accuracy, 2),\n",
    "        \"Average Fuzzy Match Score (%)\": round(avg_fuzzy_score, 2)\n",
    "    })\n",
    "\n",
    "# Convert results to a DataFrame for display\n",
    "evaluation_df = pd.DataFrame(results)\n",
    "evaluation_df\n"
   ]
  },
  {
   "cell_type": "code",
   "execution_count": null,
   "id": "0d7e3865",
   "metadata": {},
   "outputs": [
    {
     "name": "stdout",
     "output_type": "stream",
     "text": [
      "          Field  Average Cosine Similarity\n",
      "0      findings                      98.55\n",
      "1  clinicaldata                      96.89\n",
      "2      ExamName                      88.30\n",
      "3    impression                      96.16\n"
     ]
    }
   ],
   "source": [
    "from sentence_transformers import SentenceTransformer\n",
    "from sklearn.metrics.pairwise import cosine_similarity\n",
    "import numpy as np\n",
    "\n",
    "# Load pre-trained model\n",
    "model = SentenceTransformer('all-MiniLM-L6-v2')  # Fast & good for semantic similarity\n",
    "\n",
    "cosine_results = []\n",
    "\n",
    "# Clean function\n",
    "def clean_text(x):\n",
    "    return str(x).strip().lower() if isinstance(x, str) else \"\"\n",
    "\n",
    "# Compute cosine similarity for each field\n",
    "for field in fields:\n",
    "    refs = [clean_text(x) for x in ground_truth_df[field]]\n",
    "    preds = [clean_text(x) for x in extracted_df[field]]\n",
    "\n",
    "    # Get embeddings\n",
    "    ref_embeddings = model.encode(refs, convert_to_tensor=True)\n",
    "    pred_embeddings = model.encode(preds, convert_to_tensor=True)\n",
    "\n",
    "    # Cosine similarity\n",
    "    cos_sim = cosine_similarity(ref_embeddings, pred_embeddings).diagonal()\n",
    "    avg_sim = np.mean(cos_sim)\n",
    "\n",
    "    cosine_results.append({\n",
    "        \"Field\": field,\n",
    "        \"Average Cosine Similarity\": round(avg_sim * 100, 2)\n",
    "    })\n",
    "\n",
    "# Results\n",
    "cosine_df = pd.DataFrame(cosine_results)\n",
    "print(cosine_df)\n"
   ]
  },
  {
   "cell_type": "code",
   "execution_count": 10,
   "id": "7968236b",
   "metadata": {},
   "outputs": [
    {
     "data": {
      "text/plain": [
       "array([0.9854424 , 1.        , 1.0000001 , 1.        , 1.        ,\n",
       "       0.99999994, 0.9999999 , 0.9746787 , 1.        , 1.        ,\n",
       "       1.        , 0.87541515, 1.        , 0.81636834, 1.0000002 ,\n",
       "       0.99999994, 1.        , 1.        , 0.9999999 , 1.        ,\n",
       "       1.0000001 , 0.9983666 , 1.0000001 , 1.0000001 , 0.8668736 ,\n",
       "       0.7438352 , 0.99999994, 1.0000001 , 0.4826997 , 1.        ,\n",
       "       1.        , 1.        , 0.99584746, 1.        , 0.9576492 ,\n",
       "       0.9735992 , 1.        , 1.        , 0.99999994, 1.0000001 ,\n",
       "       0.98098385, 1.        , 1.        , 1.0000001 , 1.0000002 ,\n",
       "       1.        , 1.        , 0.7769222 , 0.99091005, 1.        ,\n",
       "       1.        , 1.0000001 , 0.87655926, 1.        , 0.94361174,\n",
       "       0.87655926, 1.0000001 , 1.        , 0.9999999 , 1.        ,\n",
       "       0.87376547, 1.0000001 , 1.        , 1.        , 0.9999999 ,\n",
       "       0.90018463, 0.99999976, 0.9694108 , 0.9558978 , 1.        ,\n",
       "       1.        , 1.        , 1.0000001 , 0.9999999 , 1.        ,\n",
       "       1.0000001 , 0.7859576 , 1.        , 1.0000001 , 0.9518491 ,\n",
       "       1.        , 0.9999999 , 1.        , 1.        , 0.9595256 ,\n",
       "       1.        , 1.        , 1.0000001 , 0.99561083, 1.        ,\n",
       "       1.0000002 , 1.0000001 , 1.0000001 , 1.0000001 , 1.        ,\n",
       "       1.0000002 , 0.91414446, 1.        , 0.9646052 , 0.84569436,\n",
       "       0.85813963, 1.0000002 , 1.        , 1.        , 1.        ,\n",
       "       0.81636834, 1.0000001 , 1.        , 1.0000002 , 0.9716138 ,\n",
       "       0.9999999 , 1.0000002 , 1.        , 1.        , 0.97643006,\n",
       "       1.        , 1.        , 1.0000001 , 1.        , 1.        ,\n",
       "       0.9999999 , 1.0000001 , 0.97783715, 0.81636834, 0.7438352 ,\n",
       "       1.        , 1.        , 1.        , 0.90924984, 1.0000001 ,\n",
       "       1.0000001 , 0.9983564 , 1.        , 1.        , 1.0000001 ,\n",
       "       0.99999994, 0.8689455 , 0.8668736 , 1.        , 0.332869  ,\n",
       "       1.        , 1.0000002 , 1.        , 0.99999994, 1.        ,\n",
       "       1.0000001 , 0.95217854, 0.94361174, 0.959836  , 1.0000001 ,\n",
       "       1.0000001 , 1.        , 0.9491024 , 1.        , 1.        ,\n",
       "       1.        , 1.        , 0.98312163, 1.        , 0.9999999 ,\n",
       "       0.9999999 , 0.96544814, 0.9919461 , 1.        , 1.        ,\n",
       "       0.9999999 , 1.        , 1.        , 1.        , 0.91662586,\n",
       "       0.9781086 , 0.8964132 , 1.        , 0.9999999 , 1.        ,\n",
       "       1.0000001 , 1.0000001 , 1.        , 0.99999994, 1.        ,\n",
       "       1.        , 1.        , 0.9999999 , 0.99999994, 0.99999994,\n",
       "       0.96146715, 0.99999994, 1.        , 1.0000001 , 0.99999994,\n",
       "       1.0000002 , 1.        , 1.0000002 , 0.42890763, 0.99999994,\n",
       "       1.0000004 , 1.        , 0.737556  , 1.0000001 , 1.0000001 ,\n",
       "       0.9287857 , 1.        , 1.        , 1.        , 1.        ,\n",
       "       0.9545141 , 1.        , 0.92151624, 0.99999994, 1.0000001 ,\n",
       "       0.9438299 , 0.95192254, 0.99999994, 1.        , 0.99999994,\n",
       "       0.99999994, 1.        , 0.99999994, 1.        , 1.        ,\n",
       "       1.        , 0.9999999 , 1.        , 1.        , 1.        ,\n",
       "       0.88188124, 1.        , 1.        , 1.        , 0.9983104 ,\n",
       "       1.        , 0.98669314, 0.9289701 , 1.0000002 , 1.        ,\n",
       "       1.0000001 , 1.        , 0.99999994, 1.0000002 , 0.8668736 ,\n",
       "       1.0000001 , 0.9618348 , 1.        , 0.74415   , 0.87376547,\n",
       "       1.        , 1.        , 0.9999999 , 0.90924984, 1.        ,\n",
       "       1.        , 0.36478797, 0.5447707 , 1.0000001 , 1.0000001 ,\n",
       "       0.28952917, 0.93894076, 1.0000002 , 0.54185694, 1.        ,\n",
       "       1.0000001 , 1.0000001 , 1.0000001 , 1.        , 0.35831445,\n",
       "       1.0000001 , 0.74855125, 0.9783377 , 1.0000001 , 1.0000001 ,\n",
       "       0.97153354, 1.        , 0.7868767 , 0.9636655 , 0.89934665,\n",
       "       0.4097603 , 1.0000001 , 1.0000001 , 0.18964462, 0.8689455 ,\n",
       "       1.0000002 , 1.0000002 , 1.        , 0.9990204 , 0.46832252,\n",
       "       1.        , 0.7999237 , 0.90924984, 0.98726135, 1.        ,\n",
       "       1.0000001 , 1.        , 1.        , 0.9710307 , 1.        ,\n",
       "       0.9254706 , 0.91822475, 0.9799    , 1.        , 1.        ,\n",
       "       1.0000002 , 1.0000002 , 0.95569664, 0.9999999 , 0.6117598 ,\n",
       "       1.        , 1.        , 0.9577429 , 0.98947144, 1.0000001 ,\n",
       "       1.0000002 , 0.998057  , 1.0000002 , 1.        , 1.        ,\n",
       "       0.89934665, 1.        , 0.99999994, 0.89063716, 0.5459838 ,\n",
       "       1.0000002 , 0.96207905, 1.        , 1.        , 1.        ,\n",
       "       1.0000001 , 1.0000001 , 1.        , 1.        , 0.9667051 ,\n",
       "       1.        , 0.99202645, 1.        , 0.7587311 , 1.        ,\n",
       "       1.0000001 , 1.        , 0.99999994, 0.8061253 , 1.        ,\n",
       "       0.9576492 , 0.90819156, 0.996174  , 0.98175997, 1.0000002 ,\n",
       "       1.        , 1.        , 0.7941456 , 1.        , 1.        ,\n",
       "       1.        , 0.84569436, 1.0000002 , 1.0000001 , 1.0000002 ,\n",
       "       1.        , 0.87993133, 1.        , 0.92077297, 1.        ,\n",
       "       1.0000002 , 1.        , 0.9459815 , 0.99999994, 1.        ,\n",
       "       1.        , 1.0000002 , 0.8668736 , 1.        , 0.95338964,\n",
       "       1.        , 0.9987529 , 1.0000002 , 0.95154446, 1.        ,\n",
       "       0.9999999 , 1.        , 1.0000001 , 1.        , 1.        ,\n",
       "       1.        , 1.        , 0.76491934, 0.9930041 , 1.        ,\n",
       "       0.3734054 , 1.0000002 , 1.0000001 , 1.        , 1.0000001 ,\n",
       "       1.        , 1.        , 1.        , 0.9893055 , 0.98131835,\n",
       "       1.        , 1.        , 0.9999999 , 1.        , 1.        ,\n",
       "       0.99427927, 0.89922047, 1.0000001 , 1.0000001 , 0.99999994,\n",
       "       0.74143183, 1.        , 0.9611851 , 1.0000001 , 0.8554311 ,\n",
       "       0.9181291 , 1.        , 1.        , 1.0000001 , 1.        ,\n",
       "       0.8767644 , 1.        , 0.9999999 , 0.50611204, 1.        ,\n",
       "       0.9851177 , 1.        , 1.        , 0.9999999 , 1.        ,\n",
       "       1.        , 1.        , 0.9611851 , 0.5256194 , 1.        ,\n",
       "       0.94285   , 1.        , 0.90145296, 0.9611851 , 1.0000001 ,\n",
       "       1.0000001 , 1.0000001 , 1.        , 1.        , 1.0000002 ,\n",
       "       1.0000001 , 1.        , 0.90924984, 1.        , 1.        ,\n",
       "       1.0000001 , 1.        , 0.87655926, 0.9611851 , 1.0000001 ,\n",
       "       1.        , 0.89367366, 1.0000002 , 1.        , 0.99999994,\n",
       "       0.8668736 , 0.99999994, 1.0000002 , 1.0000001 , 1.        ,\n",
       "       0.9999998 , 1.        , 1.        , 1.0000001 , 1.0000001 ,\n",
       "       0.9983103 , 1.        , 1.        , 1.        , 1.        ,\n",
       "       1.        , 1.        , 0.7438352 , 1.0000001 , 1.        ,\n",
       "       0.9893091 , 1.0000001 , 0.9692769 , 1.0000001 , 1.0000002 ,\n",
       "       1.        , 0.8165425 , 0.91662586, 1.        , 1.0000002 ,\n",
       "       0.87644243, 1.        , 0.8689455 , 1.0000001 , 1.        ,\n",
       "       0.98175997, 1.        , 1.0000001 , 1.0000001 , 0.8668736 ,\n",
       "       1.        , 1.        , 1.0000001 , 1.        , 1.0000001 ,\n",
       "       0.8738505 , 0.9611851 , 0.908132  , 0.9999998 , 0.99999994,\n",
       "       0.91380703, 1.        , 0.99321896, 1.        , 1.        ,\n",
       "       1.        , 0.9999999 , 1.0000001 , 0.9576492 , 0.8668736 ,\n",
       "       1.        , 1.0000001 , 0.9999999 , 0.99999994, 1.        ,\n",
       "       1.        , 0.9976997 , 0.95286393, 1.        , 1.        ,\n",
       "       1.        , 0.99999994, 1.        , 1.0000001 , 0.94258356,\n",
       "       1.0000001 , 1.0000002 , 1.        , 0.99801886, 1.        ,\n",
       "       0.98500335, 1.        , 0.91941977, 1.        , 1.        ,\n",
       "       1.        , 0.99548125, 1.        , 1.        , 1.0000002 ,\n",
       "       1.        , 1.0000001 , 1.0000001 , 0.9434836 , 0.96095145,\n",
       "       1.0000001 , 1.0000001 , 1.        , 0.77810895, 1.0000001 ,\n",
       "       1.        , 1.        , 0.98176014, 0.9999998 , 1.0000002 ,\n",
       "       1.        , 0.98991096, 1.        , 0.9576492 , 0.9543102 ,\n",
       "       1.0000001 , 0.9702083 , 1.        , 0.47646892, 1.        ,\n",
       "       1.        , 1.        , 1.0000002 , 1.        , 0.7438352 ,\n",
       "       1.        , 1.        , 0.87655926, 1.        , 0.8668736 ,\n",
       "       1.        , 1.0000001 , 1.0000002 , 0.94361174, 1.        ,\n",
       "       1.        , 1.0000002 , 1.        , 1.        , 1.        ,\n",
       "       1.        , 0.9813617 , 1.        , 1.0000001 , 1.0000002 ,\n",
       "       1.        , 0.8668736 , 1.0000001 , 1.        , 1.0000002 ,\n",
       "       1.        , 1.0000001 , 1.        , 0.9999999 , 0.81636834,\n",
       "       0.9139806 , 0.9999998 , 1.        , 0.9999999 , 0.9910328 ,\n",
       "       0.9988493 , 1.0000001 , 0.96916854, 1.        , 1.        ,\n",
       "       1.0000001 , 1.0000001 , 0.9185877 , 0.9525993 , 1.        ,\n",
       "       1.0000001 , 1.        , 0.7999237 , 1.0000001 , 0.99999994,\n",
       "       1.0000001 , 0.99999994, 0.99999994, 0.9999999 , 1.        ,\n",
       "       1.0000001 , 0.9999999 , 1.0000001 , 1.0000002 , 1.0000004 ,\n",
       "       1.0000001 , 1.        , 0.985183  , 1.0000001 , 1.0000001 ,\n",
       "       1.        , 0.9109668 , 1.        , 1.0000004 , 1.        ,\n",
       "       1.0000001 , 1.        , 1.        , 0.9999999 , 0.99999994,\n",
       "       0.8668736 , 1.        , 1.0000001 , 1.        , 0.9851177 ,\n",
       "       1.        , 1.0000001 , 0.9214214 , 0.99999994, 0.99999994,\n",
       "       1.        , 0.9409976 , 1.        , 1.0000002 , 1.0000002 ,\n",
       "       1.0000002 , 1.        , 0.5577651 , 0.99999994, 0.9987217 ,\n",
       "       0.81636834, 0.8519828 , 0.9180327 , 0.7386603 , 0.9999999 ,\n",
       "       1.        , 1.        , 1.0000001 , 1.0000001 , 0.8668736 ,\n",
       "       1.        , 1.0000002 , 1.        , 1.        , 1.        ,\n",
       "       0.9664046 , 1.        , 1.        , 0.84569436, 1.        ,\n",
       "       0.9043491 , 1.        , 0.99108946, 0.9633472 , 0.7959553 ,\n",
       "       1.        , 1.0000001 , 1.        , 1.0000002 , 1.        ,\n",
       "       0.94361174, 1.0000001 , 1.0000002 , 1.        , 1.0000001 ,\n",
       "       1.        , 1.        , 1.        , 1.        , 1.        ,\n",
       "       1.        , 0.9308169 , 1.        , 1.        , 1.        ,\n",
       "       0.94183874, 1.0000001 , 1.0000002 , 1.        , 1.0000001 ,\n",
       "       1.        , 0.8668736 , 0.54362226, 1.        , 1.        ,\n",
       "       0.9576492 , 0.94361174, 1.        , 1.        , 0.9417969 ,\n",
       "       1.        , 1.        , 1.        , 1.        , 1.        ,\n",
       "       0.99792594, 0.99999994, 0.13007037, 1.0000002 , 1.0000001 ,\n",
       "       1.        , 0.9999999 , 1.0000002 , 1.        , 0.78920513,\n",
       "       1.        , 1.        , 1.0000001 , 1.        , 0.88968027,\n",
       "       1.0000001 , 0.99999994, 1.0000002 , 0.99999994, 1.0000001 ,\n",
       "       0.99999994, 1.        , 0.9099667 , 1.0000001 , 1.0000002 ,\n",
       "       1.        , 1.        , 0.87541515, 1.        , 0.87541515,\n",
       "       1.        , 1.        , 0.9999999 , 0.90924984, 1.0000001 ,\n",
       "       0.7999237 , 0.9829111 , 0.99999994, 1.0000002 , 1.0000001 ,\n",
       "       0.99999976, 0.99999976, 1.0000001 , 1.        , 1.0000002 ,\n",
       "       1.        , 0.99999994, 1.0000001 , 0.9684951 , 1.0000001 ,\n",
       "       0.90924984, 1.        , 0.99999994, 0.99999994, 0.59933865,\n",
       "       0.99999976, 1.0000001 , 1.        , 0.9880481 , 0.9373934 ,\n",
       "       1.0000001 , 1.        , 0.9653839 , 1.        , 0.84569436,\n",
       "       0.9999999 , 0.88188124, 0.9611851 , 0.96270955, 0.9817054 ,\n",
       "       1.        , 1.        , 1.        , 1.        , 1.        ,\n",
       "       1.        , 0.99999994, 1.        , 1.        , 0.9655942 ,\n",
       "       1.        , 1.        , 1.        , 0.9999999 , 1.        ,\n",
       "       1.        , 1.0000002 , 1.0000001 , 1.        , 0.9802319 ,\n",
       "       0.9248701 , 0.9121926 , 0.08467034, 0.9999999 , 0.66410017,\n",
       "       0.9985682 , 1.        , 0.90944237, 1.        , 0.9589408 ,\n",
       "       1.        , 0.8979474 , 0.9854424 , 0.67642665, 1.        ,\n",
       "       0.9999999 , 0.8689455 , 1.0000001 , 1.        , 0.99999994,\n",
       "       1.0000001 , 0.99935293, 1.        , 1.        , 1.0000001 ,\n",
       "       0.92998946, 0.740825  , 1.        , 0.99788845, 1.        ,\n",
       "       1.        , 0.99862576, 1.0000002 , 1.        , 1.0000002 ,\n",
       "       0.92867196, 1.        , 1.        , 0.48146218, 1.        ,\n",
       "       1.        , 1.0000001 , 1.0000001 , 1.0000002 , 0.9999999 ,\n",
       "       0.8339392 , 1.0000002 , 1.0000002 , 1.        , 0.89147973,\n",
       "       1.        , 1.        , 1.0000001 , 1.        , 1.        ,\n",
       "       0.9345262 , 1.0000001 , 1.        , 0.6754856 , 0.94555545,\n",
       "       0.99999994, 0.6553171 , 1.        , 1.        , 0.9778371 ,\n",
       "       0.87541515, 1.0000001 , 0.8689455 , 1.        , 1.        ,\n",
       "       1.        , 1.        , 1.        , 1.        , 0.9137547 ,\n",
       "       1.        , 0.9330703 , 1.0000001 , 0.9999999 , 1.0000001 ,\n",
       "       1.        , 1.0000001 , 1.        , 0.9999998 , 0.9596996 ,\n",
       "       1.0000002 , 1.        , 1.        , 1.        , 0.87350726,\n",
       "       0.89712024, 0.99999994, 0.9999999 , 1.        , 1.0000002 ,\n",
       "       0.99999994, 0.85813963, 0.9999999 , 1.        , 1.        ,\n",
       "       1.        , 1.        , 1.        , 1.        , 1.        ,\n",
       "       0.9408349 , 0.9629828 , 0.5577651 , 1.        , 1.        ,\n",
       "       1.0000001 , 0.8808154 , 1.        , 1.        , 1.        ,\n",
       "       1.        , 0.7438352 , 1.        , 0.42845356, 0.84569436,\n",
       "       1.        , 0.87541515, 1.0000001 , 0.9584753 , 0.7543516 ,\n",
       "       0.97466284, 1.        , 0.73088694, 0.99999994], dtype=float32)"
      ]
     },
     "execution_count": 10,
     "metadata": {},
     "output_type": "execute_result"
    }
   ],
   "source": [
    "cos_sim"
   ]
  },
  {
   "cell_type": "code",
   "execution_count": null,
   "id": "184f4b76",
   "metadata": {},
   "outputs": [],
   "source": []
  }
 ],
 "metadata": {
  "kernelspec": {
   "display_name": "myvenv",
   "language": "python",
   "name": "python3"
  },
  "language_info": {
   "codemirror_mode": {
    "name": "ipython",
    "version": 3
   },
   "file_extension": ".py",
   "mimetype": "text/x-python",
   "name": "python",
   "nbconvert_exporter": "python",
   "pygments_lexer": "ipython3",
   "version": "3.12.7"
  }
 },
 "nbformat": 4,
 "nbformat_minor": 5
}
